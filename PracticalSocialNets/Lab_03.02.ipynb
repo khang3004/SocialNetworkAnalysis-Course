{
  "nbformat": 4,
  "nbformat_minor": 0,
  "metadata": {
    "colab": {
      "private_outputs": true,
      "provenance": []
    },
    "kernelspec": {
      "name": "python3",
      "display_name": "Python 3"
    },
    "language_info": {
      "name": "python"
    }
  },
  "cells": [
    {
      "cell_type": "code",
      "execution_count": null,
      "metadata": {
        "id": "-3u0oL3iZgtF"
      },
      "outputs": [],
      "source": [
        "#!pip install python-louvain"
      ]
    },
    {
      "cell_type": "code",
      "source": [
        "import networkx as nx\n",
        "import matplotlib.pyplot as plt\n",
        "from networkx.algorithms import community\n",
        "import numpy as np\n",
        "from networkx.algorithms import cuts\n",
        "import pandas as pd"
      ],
      "metadata": {
        "id": "logOw0jDZ2h0"
      },
      "execution_count": null,
      "outputs": []
    },
    {
      "cell_type": "code",
      "source": [
        "# Load karate graph\n",
        "G = nx.karate_club_graph()"
      ],
      "metadata": {
        "id": "9fq2VGeaZ6DM"
      },
      "execution_count": null,
      "outputs": []
    },
    {
      "cell_type": "code",
      "source": [
        "# Girvan-Newman\n",
        "girvan_newman_generator = community.girvan_newman(G)\n",
        "# best_modularity = -1\n",
        "# best_partition = None\n",
        "# while True:\n",
        "#     try:\n",
        "#         current_partition = next(girvan_newman_generator)\n",
        "#         current_modularity = community.modularity(G, current_partition)\n",
        "#         if current_modularity > best_modularity:\n",
        "#             best_modularity = current_modularity\n",
        "#             best_partition = current_partition\n",
        "#     except StopIteration:\n",
        "#         break\n",
        "# girvan_newman_partition = best_partition\n",
        "girvan_newman_partition = max(girvan_newman_generator, key=lambda partition: community.modularity(G, partition))"
      ],
      "metadata": {
        "id": "xrMy78mdaFJu"
      },
      "execution_count": null,
      "outputs": []
    },
    {
      "cell_type": "code",
      "source": [
        "# Label Propagation\n",
        "label_propagation_partition = community.label_propagation_communities(G)"
      ],
      "metadata": {
        "id": "WTmU1RS6a-eQ"
      },
      "execution_count": null,
      "outputs": []
    },
    {
      "cell_type": "code",
      "source": [
        "# Detect communities using different methods\n",
        "# Louvain (using alternative)\n",
        "louvain_partition = list(community.louvain_communities(G))"
      ],
      "metadata": {
        "id": "0tKzclxvbOSt"
      },
      "execution_count": null,
      "outputs": []
    },
    {
      "cell_type": "code",
      "source": [
        "# Add function to calculate metrics\n",
        "def calculate_metrics(G, communities):\n",
        "    metrics = {\n",
        "        'num_communities': len(communities),\n",
        "        'modularity': community.modularity(G, communities),\n",
        "        'conductance': np.mean([cuts.conductance(G, c) for c in communities]),\n",
        "        'normalized_cut': np.mean([cuts.normalized_cut_size(G, c) for c in communities])\n",
        "    }\n",
        "    return metrics"
      ],
      "metadata": {
        "id": "jQk-AsC_bWUI"
      },
      "execution_count": null,
      "outputs": []
    },
    {
      "cell_type": "code",
      "source": [
        "def create_community_node_colors(graph, communities):\n",
        "    node_colors = []\n",
        "    for node in graph:\n",
        "        for idx, comm in enumerate(communities):\n",
        "            if node in comm:\n",
        "                node_colors.append(plt.cm.jet(idx / len(communities)))\n",
        "                break\n",
        "    return node_colors\n",
        "\n",
        "def visualize_communities(graph, communities, title, ax):\n",
        "    node_colors = create_community_node_colors(graph, communities)\n",
        "    pos = nx.spring_layout(graph, k=0.3, iterations=50, seed=2)\n",
        "    modularity = community.modularity(graph, communities)\n",
        "\n",
        "    ax.set_title(f\"{title}\\n{len(communities)} communities (Modularity: {modularity:.3f})\")\n",
        "    nx.draw(graph, pos=pos, node_size=500, node_color=node_colors,\n",
        "            with_labels=True, font_size=10, ax=ax)"
      ],
      "metadata": {
        "id": "A6lz4jIUbtL6"
      },
      "execution_count": null,
      "outputs": []
    },
    {
      "cell_type": "code",
      "source": [
        "# Plot communities\n",
        "fig, axes = plt.subplots(1, 3, figsize=(20, 6))\n",
        "\n",
        "visualize_communities(G, louvain_partition, \"Louvain\", axes[0])\n",
        "visualize_communities(G, label_propagation_partition, \"Label Propagation\", axes[1])\n",
        "visualize_communities(G, girvan_newman_partition, \"Girvan-Newman\", axes[2])"
      ],
      "metadata": {
        "id": "_QuiQEqDb0fY"
      },
      "execution_count": null,
      "outputs": []
    },
    {
      "cell_type": "code",
      "source": [
        "# Create DataFrame for metrics comparison\n",
        "metrics_data = []\n",
        "algorithms = [\"Louvain\", \"Label Propagation\", \"Girvan-Newman\"]\n",
        "\n",
        "for partition, algorithm in zip([louvain_partition, label_propagation_partition, girvan_newman_partition], algorithms):\n",
        "    metrics = calculate_metrics(G, partition)\n",
        "    metrics_data.append({\n",
        "        'Algorithm': algorithm,\n",
        "        'Num Communities': metrics['num_communities'],\n",
        "        'Modularity': metrics['modularity'],\n",
        "        'Conductance': metrics['conductance'],\n",
        "        'Normalized Cut': metrics['normalized_cut']\n",
        "    })\n",
        "\n",
        "metrics_df = pd.DataFrame(metrics_data)\n",
        "\n",
        "# Plot the comparison of metrics\n",
        "fig, axes = plt.subplots(1, 2, figsize=(18, 7))\n",
        "\n",
        "# Bar chart for comparing 'Num Communities' between algorithms\n",
        "axes[0].bar(metrics_df['Algorithm'], metrics_df['Num Communities'], color=\"#8E44AD\")\n",
        "axes[0].set_title(\"Num Communities Comparison\")\n",
        "axes[0].set_xlabel(\"Algorithm\")\n",
        "axes[0].set_ylabel(\"Num Communities\")\n",
        "\n",
        "# Bar chart for comparing Modularity, Conductance, and Normalized Cut for each algorithm\n",
        "bar_width = 0.6  # Increase the width of the bars\n",
        "x = np.arange(len(metrics_df['Algorithm']))  # X positions for each algorithm\n",
        "\n",
        "axes[1].bar(x - bar_width/2, metrics_df['Modularity'], width=bar_width, label='Modularity', color=\"#F2D140\")\n",
        "axes[1].bar(x - bar_width/2, metrics_df['Conductance'], width=bar_width, label='Conductance', color=\"#FF6347\", bottom=metrics_df['Modularity'])\n",
        "axes[1].bar(x - bar_width/2, metrics_df['Normalized Cut'], width=bar_width, label='Normalized Cut', color=\"#48C9B0\", bottom=metrics_df['Modularity'] + metrics_df['Conductance'])\n",
        "\n",
        "axes[1].set_title(\"Comparison of Metrics\")\n",
        "axes[1].set_xlabel(\"Algorithm\")\n",
        "axes[1].set_ylabel(\"Value\")\n",
        "axes[1].set_xticks(x)\n",
        "axes[1].set_xticklabels(metrics_df['Algorithm'])\n",
        "axes[1].legend()\n",
        "\n",
        "plt.tight_layout()\n",
        "plt.show()"
      ],
      "metadata": {
        "id": "FtH1KLtOcW3K"
      },
      "execution_count": null,
      "outputs": []
    },
    {
      "cell_type": "markdown",
      "source": [
        "## VIẾT TIẾP TRONG Lab03.02\n",
        "1. Viết lại bài Lab03.02 thành class, xây dựng pipeline áp dụng cho đồ thị mạng xã hội bất kỳ.\n",
        "\n",
        "## TẠO MỚI Lab03.03\n",
        "2. Giới thiệu tổng quan về thuật toán louvain\n",
        "3. Tóm tắt tổng quan các chỉ số đánh giá việc phát hiện cộng đồng (công thức, phạm vi, như thế nào là tốt, ....  )\n",
        "4. Thực hiện phân tích việc (nhận xét)\n",
        "phát hiện cộng đồng cho mạng xã hội tự chọn"
      ],
      "metadata": {
        "id": "KWmBMt9KdNVz"
      }
    },
    {
      "cell_type": "code",
      "source": [],
      "metadata": {
        "id": "dariN1M2dONZ"
      },
      "execution_count": null,
      "outputs": []
    },
    {
      "cell_type": "markdown",
      "source": [],
      "metadata": {
        "id": "mkBqqyZOggQm"
      }
    }
  ]
}