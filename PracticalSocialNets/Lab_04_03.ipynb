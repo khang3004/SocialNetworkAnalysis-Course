{
  "nbformat": 4,
  "nbformat_minor": 0,
  "metadata": {
    "colab": {
      "private_outputs": true,
      "provenance": []
    },
    "kernelspec": {
      "name": "python3",
      "display_name": "Python 3"
    },
    "language_info": {
      "name": "python"
    }
  },
  "cells": [
    {
      "cell_type": "code",
      "execution_count": null,
      "metadata": {
        "id": "Z-sVUnUvVVUQ"
      },
      "outputs": [],
      "source": [
        "\"\"\"\n",
        "A. Tham khảo hưỡng dẫn về GNN tại:\n",
        "+ https://viblo.asia/p/gioi-thieu-ve-graph-neural-networks-gnns-yZjJYG7MVOE\n",
        "+ https://docs.dgl.ai/en/0.8.x/tutorials/blitz/4_link_predict.html\n",
        "+ https://arxiv.org/ftp/arxiv/papers/1812/1812.08434.pdf\n",
        "\n",
        "B. Yêu cầu:\n",
        "1. Tìm hiểu và trình bày tổng quan về GNN\n",
        "2. Sử dụng GNN để dự đoán liên kết mạng xã hội mầ bạn lựa chọn\n",
        "3. Đánh giá kết quả giữa GNN và các phương pháp trong LAB 04.01 / 04.02\n",
        "\"\"\""
      ]
    }
  ]
}